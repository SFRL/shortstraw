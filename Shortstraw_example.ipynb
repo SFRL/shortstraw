{
 "cells": [
  {
   "cell_type": "code",
   "execution_count": 1,
   "metadata": {},
   "outputs": [],
   "source": [
    "from shortstraw import short_straw\n",
    "import numpy as np \n",
    "from PIL import Image, ImageDraw, ImageFont\n",
    "import json\n",
    "import matplotlib.pyplot as plt"
   ]
  },
  {
   "cell_type": "code",
   "execution_count": 2,
   "metadata": {},
   "outputs": [],
   "source": [
    "with open(\"example_sketches.json\") as f:\n",
    "    data = json.load(f)"
   ]
  },
  {
   "cell_type": "code",
   "execution_count": 3,
   "metadata": {},
   "outputs": [],
   "source": [
    "#Function to draw a sketch\n",
    "def draw_sketch(paths,colour=(0,0,0),bg=(255,255,255),strength=4):\n",
    "    \n",
    "    sketch = Image.new('RGBA',(750,750),bg)\n",
    "    draw = ImageDraw.Draw(sketch)\n",
    "    #Draw each path as a continous \n",
    "    for j,path in enumerate(paths):\n",
    "        points = len(path[0])\n",
    "        for i in range(points):\n",
    "            if i > 0:\n",
    "                prev_x = path[0][i-1]\n",
    "                prev_y = path[1][i-1]\n",
    "                x = path[0][i]\n",
    "                y = path[1][i]\n",
    "                if type(colour) is tuple:\n",
    "                    paint = colour\n",
    "                else:\n",
    "                    paint = colour[j][i]\n",
    "                draw.line((prev_x,prev_y,x,y),fill=paint,width=strength)\n",
    "    return sketch"
   ]
  },
  {
   "cell_type": "code",
   "execution_count": 9,
   "metadata": {},
   "outputs": [],
   "source": [
    "# Select sketch from example dataset\n",
    "example = data[\"impact\"]"
   ]
  },
  {
   "cell_type": "code",
   "execution_count": 11,
   "metadata": {},
   "outputs": [
    {
     "name": "stderr",
     "output_type": "stream",
     "text": [
      "/Users/sebastian/opt/anaconda3/lib/python3.8/site-packages/numpy/core/_asarray.py:102: VisibleDeprecationWarning: Creating an ndarray from ragged nested sequences (which is a list-or-tuple of lists-or-tuples-or ndarrays with different lengths or shapes) is deprecated. If you meant to do this, you must specify 'dtype=object' when creating the ndarray.\n",
      "  return array(a, dtype, copy=False, order=order)\n"
     ]
    },
    {
     "data": {
      "text/plain": [
       "(2, 3)"
      ]
     },
     "execution_count": 11,
     "metadata": {},
     "output_type": "execute_result"
    }
   ],
   "source": [
    "np.shape(example)"
   ]
  },
  {
   "cell_type": "code",
   "execution_count": 5,
   "metadata": {},
   "outputs": [],
   "source": [
    "#  Run shortstraw algorithm\n",
    "all_corners, all_curves, feature_info, resampled_data, all_raw_angles, all_raw_curves = short_straw(example)"
   ]
  },
  {
   "cell_type": "code",
   "execution_count": 6,
   "metadata": {},
   "outputs": [
    {
     "name": "stdout",
     "output_type": "stream",
     "text": [
      "Number of straight: 0\n",
      "Number of narrow_curve: 2\n",
      "Number of wide_curve: 7\n",
      "Number of obtuse: 9\n",
      "Number of right: 1\n",
      "Number of acute: 3\n"
     ]
    }
   ],
   "source": [
    "# Display feature information\n",
    "for key in feature_info:\n",
    "    print(\"Number of {key}: {number}\".format(key=key,number=feature_info[key]))"
   ]
  },
  {
   "cell_type": "code",
   "execution_count": 7,
   "metadata": {},
   "outputs": [
    {
     "data": {
      "image/png": "[encoded data removed]",
      "text/plain": [
       "<Figure size 936x360 with 2 Axes>"
      ]
     },
     "metadata": {
      "needs_background": "light"
     },
     "output_type": "display_data"
    }
   ],
   "source": [
    "# Display distrubtions of raw corner and curve data\n",
    "fig, axes = plt.subplots(ncols=2, nrows=1, figsize=(13, 5))\n",
    "axes[0].set_title(\"Corner distribution\")\n",
    "axes[0].set_xlabel(\"Angle\")\n",
    "axes[0].set_ylabel(\"Total occurences\")\n",
    "axes[0].hist(all_raw_angles)\n",
    "axes[1].set_title(\"Curve distribution\")\n",
    "axes[1].set_xlabel(\"Angle\")\n",
    "axes[1].set_ylabel(\"Total occurences\")\n",
    "axes[1].hist(all_raw_curves)\n",
    "\n",
    "plt.show()"
   ]
  },
  {
   "cell_type": "code",
   "execution_count": 8,
   "metadata": {},
   "outputs": [
    {
     "data": {
      "image/png": "[encoded data removed]",
      "text/plain": [
       "<PIL.Image.Image image mode=RGBA size=750x750 at 0x7FB3EF9F8A30>"
      ]
     },
     "execution_count": 8,
     "metadata": {},
     "output_type": "execute_result"
    }
   ],
   "source": [
    "#Draw resampled version of sketch\n",
    "resampled_sketch = draw_sketch(resampled_data)\n",
    "draw = ImageDraw.Draw(resampled_sketch)\n",
    "\n",
    "#Draw start, end, corner and curve points \n",
    "for path_i,path in enumerate(resampled_data):\n",
    "    for point_i,_ in enumerate(path[0]):\n",
    "        colour = False\n",
    "        # Start points are green\n",
    "        if point_i == 0:\n",
    "            colour = (0,255,0)\n",
    "        # End points are blue\n",
    "        elif point_i == len(path[0])-1:\n",
    "            colour = (0,0,255)\n",
    "        # Corner points are red\n",
    "        elif point_i in all_corners[path_i]:\n",
    "            colour = (255,0,0)\n",
    "        # Curve points are yellow\n",
    "        elif point_i in all_curves[path_i]:\n",
    "            colour = (255,255,0)\n",
    "        # Draw points\n",
    "        if colour:\n",
    "            x = path[0][point_i]\n",
    "            y = path[1][point_i]\n",
    "            draw.ellipse((x-5,y-5,x+5,y+5),fill=colour)       \n",
    "        \n",
    "resampled_sketch"
   ]
  },
  {
   "cell_type": "code",
   "execution_count": null,
   "metadata": {},
   "outputs": [],
   "source": []
  }
 ],
 "metadata": {
  "kernelspec": {
   "display_name": "Python 3",
   "language": "python",
   "name": "python3"
  },
  "language_info": {
   "codemirror_mode": {
    "name": "ipython",
    "version": 3
   },
   "file_extension": ".py",
   "mimetype": "text/x-python",
   "name": "python",
   "nbconvert_exporter": "python",
   "pygments_lexer": "ipython3",
   "version": "3.8.5"
  }
 },
 "nbformat": 4,
 "nbformat_minor": 2
}
